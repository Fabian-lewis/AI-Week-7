{
  "nbformat": 4,
  "nbformat_minor": 0,
  "metadata": {
    "colab": {
      "provenance": [],
      "authorship_tag": "ABX9TyOdKVz+krHN6UGucKMrZf/v",
      "include_colab_link": true
    },
    "kernelspec": {
      "name": "python3",
      "display_name": "Python 3"
    },
    "language_info": {
      "name": "python"
    }
  },
  "cells": [
    {
      "cell_type": "markdown",
      "metadata": {
        "id": "view-in-github",
        "colab_type": "text"
      },
      "source": [
        "<a href=\"https://colab.research.google.com/github/Fabian-lewis/AI-Week-7/blob/main/Practical_Audit.ipynb\" target=\"_parent\"><img src=\"https://colab.research.google.com/assets/colab-badge.svg\" alt=\"Open In Colab\"/></a>"
      ]
    },
    {
      "cell_type": "markdown",
      "source": [
        "## Bias Audit Report on COMPAS Recidivism Dataset\n",
        "\n",
        "###Overview:\n",
        "This audit assessed potential racial bias within the COMPAS Recidivism dataset, focusing on differences in risk score outcomes between African-American (unprivileged) and Caucasian (privileged) groups. Using IBM’s AI Fairness 360 toolkit, we analyzed fairness metrics and visualized disparities to understand bias impact.\n",
        "\n",
        "###Methodology:\n",
        "We processed a filtered dataset containing key attributes: age, priors count, decile score, race (encoded), and recidivism status. Protected groups were defined as:\n",
        "\n",
        "  - Privileged Group: Caucasians (race = 1)\n",
        "\n",
        "  - Unprivileged Group: African-Americans (race = 0)\n",
        "\n",
        "We applied fairness metrics including **Statistical Parity Difference (SPD)**, **Disparate Impact (DI)**, **Equal Opportunity Difference (EOD)**, and **Average Odds Difference (AOD)** using the *AI Fairness 360’s ClassificationMetric tool.*\n",
        "\n",
        "\n",
        "###Findings:\n",
        "  - SPD: -0.11 (slight bias against African-Americans)\n",
        "\n",
        "  - DI: 0.85 (within acceptable range but borderline)\n",
        "\n",
        "  - EOD: 0.0 (indicates fairness in true positive rates)\n",
        "\n",
        "  - AOD: 0.0 (balanced prediction outcomes)\n",
        "\n",
        "\n",
        "  **Visual analysis showed:**\n",
        "\n",
        "  - Favorable outcomes at 70% for Caucasians vs 60% for African-Americans.\n",
        "\n",
        "  - SPD bar confirmed a -0.1 difference, reflecting mild but notable bias.\n",
        "\n",
        "###Conclusion:\n",
        "The COMPAS risk assessment system demonstrates a mild bias in outcome distribution, with African-Americans slightly less likely to receive favorable outcomes. While disparate impact remains within the commonly accepted threshold (80% rule), statistical parity difference suggests room for fairness improvement."
      ],
      "metadata": {
        "id": "rB9nnxo8EE3n"
      }
    },
    {
      "cell_type": "markdown",
      "source": [
        "###Step 1 — Understand the Dataset & Problem\n",
        "🔹 Dataset:\n",
        "\n",
        "COMPAS Recidivism Dataset\n",
        "\n",
        "🔹 Context:\n",
        "\n",
        "This dataset contains criminal history, jail and prison time, demographics, and COMPAS risk scores used by courts for recidivism prediction.\n",
        "\n",
        "🔹 Known Issue:\n",
        "\n",
        "Alleged racial bias — higher false positive rates (predicting re-offend) for Black defendants compared to White defendants.\n",
        "\n",
        "🔹 Why This Step Matters:\n",
        "\n",
        "Understanding the context helps you audit bias relevant to the social impact — you don’t audit blindly; you audit with purpose."
      ],
      "metadata": {
        "id": "whHY9uGBH8lK"
      }
    },
    {
      "cell_type": "code",
      "execution_count": 2,
      "metadata": {
        "colab": {
          "base_uri": "https://localhost:8080/",
          "height": 73
        },
        "id": "FqlQ_XYSH0l0",
        "outputId": "ca9883b6-7583-4f8e-f987-504c3a4e49ee"
      },
      "outputs": [
        {
          "output_type": "display_data",
          "data": {
            "text/plain": [
              "<IPython.core.display.HTML object>"
            ],
            "text/html": [
              "\n",
              "     <input type=\"file\" id=\"files-108d7704-46fd-4d57-aa55-6e99d4b9419f\" name=\"files[]\" multiple disabled\n",
              "        style=\"border:none\" />\n",
              "     <output id=\"result-108d7704-46fd-4d57-aa55-6e99d4b9419f\">\n",
              "      Upload widget is only available when the cell has been executed in the\n",
              "      current browser session. Please rerun this cell to enable.\n",
              "      </output>\n",
              "      <script>// Copyright 2017 Google LLC\n",
              "//\n",
              "// Licensed under the Apache License, Version 2.0 (the \"License\");\n",
              "// you may not use this file except in compliance with the License.\n",
              "// You may obtain a copy of the License at\n",
              "//\n",
              "//      http://www.apache.org/licenses/LICENSE-2.0\n",
              "//\n",
              "// Unless required by applicable law or agreed to in writing, software\n",
              "// distributed under the License is distributed on an \"AS IS\" BASIS,\n",
              "// WITHOUT WARRANTIES OR CONDITIONS OF ANY KIND, either express or implied.\n",
              "// See the License for the specific language governing permissions and\n",
              "// limitations under the License.\n",
              "\n",
              "/**\n",
              " * @fileoverview Helpers for google.colab Python module.\n",
              " */\n",
              "(function(scope) {\n",
              "function span(text, styleAttributes = {}) {\n",
              "  const element = document.createElement('span');\n",
              "  element.textContent = text;\n",
              "  for (const key of Object.keys(styleAttributes)) {\n",
              "    element.style[key] = styleAttributes[key];\n",
              "  }\n",
              "  return element;\n",
              "}\n",
              "\n",
              "// Max number of bytes which will be uploaded at a time.\n",
              "const MAX_PAYLOAD_SIZE = 100 * 1024;\n",
              "\n",
              "function _uploadFiles(inputId, outputId) {\n",
              "  const steps = uploadFilesStep(inputId, outputId);\n",
              "  const outputElement = document.getElementById(outputId);\n",
              "  // Cache steps on the outputElement to make it available for the next call\n",
              "  // to uploadFilesContinue from Python.\n",
              "  outputElement.steps = steps;\n",
              "\n",
              "  return _uploadFilesContinue(outputId);\n",
              "}\n",
              "\n",
              "// This is roughly an async generator (not supported in the browser yet),\n",
              "// where there are multiple asynchronous steps and the Python side is going\n",
              "// to poll for completion of each step.\n",
              "// This uses a Promise to block the python side on completion of each step,\n",
              "// then passes the result of the previous step as the input to the next step.\n",
              "function _uploadFilesContinue(outputId) {\n",
              "  const outputElement = document.getElementById(outputId);\n",
              "  const steps = outputElement.steps;\n",
              "\n",
              "  const next = steps.next(outputElement.lastPromiseValue);\n",
              "  return Promise.resolve(next.value.promise).then((value) => {\n",
              "    // Cache the last promise value to make it available to the next\n",
              "    // step of the generator.\n",
              "    outputElement.lastPromiseValue = value;\n",
              "    return next.value.response;\n",
              "  });\n",
              "}\n",
              "\n",
              "/**\n",
              " * Generator function which is called between each async step of the upload\n",
              " * process.\n",
              " * @param {string} inputId Element ID of the input file picker element.\n",
              " * @param {string} outputId Element ID of the output display.\n",
              " * @return {!Iterable<!Object>} Iterable of next steps.\n",
              " */\n",
              "function* uploadFilesStep(inputId, outputId) {\n",
              "  const inputElement = document.getElementById(inputId);\n",
              "  inputElement.disabled = false;\n",
              "\n",
              "  const outputElement = document.getElementById(outputId);\n",
              "  outputElement.innerHTML = '';\n",
              "\n",
              "  const pickedPromise = new Promise((resolve) => {\n",
              "    inputElement.addEventListener('change', (e) => {\n",
              "      resolve(e.target.files);\n",
              "    });\n",
              "  });\n",
              "\n",
              "  const cancel = document.createElement('button');\n",
              "  inputElement.parentElement.appendChild(cancel);\n",
              "  cancel.textContent = 'Cancel upload';\n",
              "  const cancelPromise = new Promise((resolve) => {\n",
              "    cancel.onclick = () => {\n",
              "      resolve(null);\n",
              "    };\n",
              "  });\n",
              "\n",
              "  // Wait for the user to pick the files.\n",
              "  const files = yield {\n",
              "    promise: Promise.race([pickedPromise, cancelPromise]),\n",
              "    response: {\n",
              "      action: 'starting',\n",
              "    }\n",
              "  };\n",
              "\n",
              "  cancel.remove();\n",
              "\n",
              "  // Disable the input element since further picks are not allowed.\n",
              "  inputElement.disabled = true;\n",
              "\n",
              "  if (!files) {\n",
              "    return {\n",
              "      response: {\n",
              "        action: 'complete',\n",
              "      }\n",
              "    };\n",
              "  }\n",
              "\n",
              "  for (const file of files) {\n",
              "    const li = document.createElement('li');\n",
              "    li.append(span(file.name, {fontWeight: 'bold'}));\n",
              "    li.append(span(\n",
              "        `(${file.type || 'n/a'}) - ${file.size} bytes, ` +\n",
              "        `last modified: ${\n",
              "            file.lastModifiedDate ? file.lastModifiedDate.toLocaleDateString() :\n",
              "                                    'n/a'} - `));\n",
              "    const percent = span('0% done');\n",
              "    li.appendChild(percent);\n",
              "\n",
              "    outputElement.appendChild(li);\n",
              "\n",
              "    const fileDataPromise = new Promise((resolve) => {\n",
              "      const reader = new FileReader();\n",
              "      reader.onload = (e) => {\n",
              "        resolve(e.target.result);\n",
              "      };\n",
              "      reader.readAsArrayBuffer(file);\n",
              "    });\n",
              "    // Wait for the data to be ready.\n",
              "    let fileData = yield {\n",
              "      promise: fileDataPromise,\n",
              "      response: {\n",
              "        action: 'continue',\n",
              "      }\n",
              "    };\n",
              "\n",
              "    // Use a chunked sending to avoid message size limits. See b/62115660.\n",
              "    let position = 0;\n",
              "    do {\n",
              "      const length = Math.min(fileData.byteLength - position, MAX_PAYLOAD_SIZE);\n",
              "      const chunk = new Uint8Array(fileData, position, length);\n",
              "      position += length;\n",
              "\n",
              "      const base64 = btoa(String.fromCharCode.apply(null, chunk));\n",
              "      yield {\n",
              "        response: {\n",
              "          action: 'append',\n",
              "          file: file.name,\n",
              "          data: base64,\n",
              "        },\n",
              "      };\n",
              "\n",
              "      let percentDone = fileData.byteLength === 0 ?\n",
              "          100 :\n",
              "          Math.round((position / fileData.byteLength) * 100);\n",
              "      percent.textContent = `${percentDone}% done`;\n",
              "\n",
              "    } while (position < fileData.byteLength);\n",
              "  }\n",
              "\n",
              "  // All done.\n",
              "  yield {\n",
              "    response: {\n",
              "      action: 'complete',\n",
              "    }\n",
              "  };\n",
              "}\n",
              "\n",
              "scope.google = scope.google || {};\n",
              "scope.google.colab = scope.google.colab || {};\n",
              "scope.google.colab._files = {\n",
              "  _uploadFiles,\n",
              "  _uploadFilesContinue,\n",
              "};\n",
              "})(self);\n",
              "</script> "
            ]
          },
          "metadata": {}
        },
        {
          "output_type": "stream",
          "name": "stdout",
          "text": [
            "Saving compas-scores.csv to compas-scores.csv\n"
          ]
        }
      ],
      "source": [
        "## Upload the csv file\n",
        "from google.colab import files\n",
        "\n",
        "upoaded = files.upload()"
      ]
    },
    {
      "cell_type": "code",
      "source": [
        "## Import the libraries\n",
        "import pandas as pd\n",
        "import numpy as np\n",
        "import matplotlib.pyplot as plt\n",
        "import seaborn as sn\n",
        "\n",
        "## Load the Dataset\n",
        "data = pd.read_csv('compas-scores.csv')\n",
        "\n",
        "## Preview the first few rows\n",
        "print(data.head())\n",
        "\n",
        "## Check dataset info (columns, nulls, datatypes)\n",
        "print(data.info())"
      ],
      "metadata": {
        "colab": {
          "base_uri": "https://localhost:8080/"
        },
        "id": "63pBdfxVJrbo",
        "outputId": "bd828e87-1019-4908-dd62-62411642db0c"
      },
      "execution_count": 3,
      "outputs": [
        {
          "output_type": "stream",
          "name": "stdout",
          "text": [
            "   id              name    first       last compas_screening_date   sex  \\\n",
            "0   1  miguel hernandez   miguel  hernandez            2013-08-14  Male   \n",
            "1   2      michael ryan  michael       ryan            2014-12-31  Male   \n",
            "2   3       kevon dixon    kevon      dixon            2013-01-27  Male   \n",
            "3   4          ed philo       ed      philo            2013-04-14  Male   \n",
            "4   5       marcu brown    marcu      brown            2013-01-13  Male   \n",
            "\n",
            "          dob  age          age_cat              race  ...  vr_offense_date  \\\n",
            "0  1947-04-18   69  Greater than 45             Other  ...              NaN   \n",
            "1  1985-02-06   31          25 - 45         Caucasian  ...              NaN   \n",
            "2  1982-01-22   34          25 - 45  African-American  ...       2013-07-05   \n",
            "3  1991-05-14   24     Less than 25  African-American  ...              NaN   \n",
            "4  1993-01-21   23     Less than 25  African-American  ...              NaN   \n",
            "\n",
            "                vr_charge_desc  v_type_of_assessment  v_decile_score  \\\n",
            "0                          NaN      Risk of Violence               1   \n",
            "1                          NaN      Risk of Violence               2   \n",
            "2  Felony Battery (Dom Strang)      Risk of Violence               1   \n",
            "3                          NaN      Risk of Violence               3   \n",
            "4                          NaN      Risk of Violence               6   \n",
            "\n",
            "   v_score_text  v_screening_date  type_of_assessment decile_score.1  \\\n",
            "0           Low        2013-08-14  Risk of Recidivism              1   \n",
            "1           Low        2014-12-31  Risk of Recidivism              5   \n",
            "2           Low        2013-01-27  Risk of Recidivism              3   \n",
            "3           Low        2013-04-14  Risk of Recidivism              4   \n",
            "4        Medium        2013-01-13  Risk of Recidivism              8   \n",
            "\n",
            "  score_text screening_date  \n",
            "0        Low     2013-08-14  \n",
            "1     Medium     2014-12-31  \n",
            "2        Low     2013-01-27  \n",
            "3        Low     2013-04-14  \n",
            "4       High     2013-01-13  \n",
            "\n",
            "[5 rows x 47 columns]\n",
            "<class 'pandas.core.frame.DataFrame'>\n",
            "RangeIndex: 11757 entries, 0 to 11756\n",
            "Data columns (total 47 columns):\n",
            " #   Column                   Non-Null Count  Dtype  \n",
            "---  ------                   --------------  -----  \n",
            " 0   id                       11757 non-null  int64  \n",
            " 1   name                     11757 non-null  object \n",
            " 2   first                    11757 non-null  object \n",
            " 3   last                     11757 non-null  object \n",
            " 4   compas_screening_date    11757 non-null  object \n",
            " 5   sex                      11757 non-null  object \n",
            " 6   dob                      11757 non-null  object \n",
            " 7   age                      11757 non-null  int64  \n",
            " 8   age_cat                  11757 non-null  object \n",
            " 9   race                     11757 non-null  object \n",
            " 10  juv_fel_count            11757 non-null  int64  \n",
            " 11  decile_score             11757 non-null  int64  \n",
            " 12  juv_misd_count           11757 non-null  int64  \n",
            " 13  juv_other_count          11757 non-null  int64  \n",
            " 14  priors_count             11757 non-null  int64  \n",
            " 15  days_b_screening_arrest  10577 non-null  float64\n",
            " 16  c_jail_in                10577 non-null  object \n",
            " 17  c_jail_out               10577 non-null  object \n",
            " 18  c_case_number            11015 non-null  object \n",
            " 19  c_offense_date           9157 non-null   object \n",
            " 20  c_arrest_date            1858 non-null   object \n",
            " 21  c_days_from_compas       11015 non-null  float64\n",
            " 22  c_charge_degree          11757 non-null  object \n",
            " 23  c_charge_desc            11008 non-null  object \n",
            " 24  is_recid                 11757 non-null  int64  \n",
            " 25  num_r_cases              0 non-null      float64\n",
            " 26  r_case_number            3703 non-null   object \n",
            " 27  r_charge_degree          11757 non-null  object \n",
            " 28  r_days_from_arrest       2460 non-null   float64\n",
            " 29  r_offense_date           3703 non-null   object \n",
            " 30  r_charge_desc            3643 non-null   object \n",
            " 31  r_jail_in                2460 non-null   object \n",
            " 32  r_jail_out               2460 non-null   object \n",
            " 33  is_violent_recid         11757 non-null  int64  \n",
            " 34  num_vr_cases             0 non-null      float64\n",
            " 35  vr_case_number           882 non-null    object \n",
            " 36  vr_charge_degree         882 non-null    object \n",
            " 37  vr_offense_date          882 non-null    object \n",
            " 38  vr_charge_desc           882 non-null    object \n",
            " 39  v_type_of_assessment     11757 non-null  object \n",
            " 40  v_decile_score           11757 non-null  int64  \n",
            " 41  v_score_text             11752 non-null  object \n",
            " 42  v_screening_date         11757 non-null  object \n",
            " 43  type_of_assessment       11757 non-null  object \n",
            " 44  decile_score.1           11757 non-null  int64  \n",
            " 45  score_text               11742 non-null  object \n",
            " 46  screening_date           11757 non-null  object \n",
            "dtypes: float64(5), int64(11), object(31)\n",
            "memory usage: 4.2+ MB\n",
            "None\n"
          ]
        }
      ]
    },
    {
      "cell_type": "code",
      "source": [
        "## check for unique race and their counts\n",
        "print(\"\\n Race Counts:\")\n",
        "print(data['race'].value_counts())"
      ],
      "metadata": {
        "colab": {
          "base_uri": "https://localhost:8080/"
        },
        "id": "b0yH-TnNLAh0",
        "outputId": "aa6c5164-b644-4678-d54e-b894e76d102a"
      },
      "execution_count": 4,
      "outputs": [
        {
          "output_type": "stream",
          "name": "stdout",
          "text": [
            "\n",
            " Race Counts:\n",
            "race\n",
            "African-American    5813\n",
            "Caucasian           4085\n",
            "Hispanic            1100\n",
            "Other                661\n",
            "Asian                 58\n",
            "Native American       40\n",
            "Name: count, dtype: int64\n"
          ]
        }
      ]
    },
    {
      "cell_type": "markdown",
      "source": [
        "###Reflection (What We Learned):\n",
        "**African-American** and **Caucasian** are the dominant groups — this is typical in COMPAS analysis.\n",
        "\n",
        "The other groups are too small in count for reliable bias metrics (statistically insignificant for fairness comparison).\n",
        "\n",
        "###Decision for the Audit:\n",
        "1. Privileged Group: Caucasian\n",
        "\n",
        "2. Unprivileged Group: African-American\n",
        "\n",
        "(This is based on historical context and fairness literature on this dataset.)\n",
        "\n",
        "    Privileged Group:\n",
        "    A group that, historically or within the context of the dataset, has had societal/systemic advantage or is treated better by the AI system.\n",
        "    ➔ In analysis, they often experience better outcomes (e.g., lower risk scores, fewer false positives).\n",
        "\n",
        "    Unprivileged Group:\n",
        "    A group that, historically or in this dataset’s context, faces disadvantage, discrimination, or is treated worse by the AI system.\n",
        "    ➔ They often experience worse outcomes (e.g., higher false positives, harsher scores).\n",
        "\n",
        "    The COMPAS system historically over-predicted risk (false positives) for African-Americans.\n",
        "\n",
        "    They were statistically more likely to be classified as \"high risk\" even when they did not re-offend."
      ],
      "metadata": {
        "id": "zK5Shwm_MMhd"
      }
    },
    {
      "cell_type": "markdown",
      "source": [
        "###Step 2 — Filter and Prepare the Data\n",
        "👉 Our goal now:\n",
        "\n",
        "1. Focus only on African-American and Caucasian defendants\n",
        "\n",
        "2. Drop unnecessary columns like name, dob, id, etc.\n",
        "\n",
        "3. Keep race, sex, age, priors_count, decile_score, two_year_recid"
      ],
      "metadata": {
        "id": "mZamlUNQO89E"
      }
    },
    {
      "cell_type": "code",
      "source": [
        "## Filter only African-American and Caucasian Records\n",
        "filtered_data = data[data['race'].isin(['African-American', 'Caucasian'])]\n",
        "\n",
        "## Select Relevant Columns\n",
        "selected_cols = [\n",
        "    'race',\n",
        "    'sex',\n",
        "    'age',\n",
        "    'priors_count',\n",
        "    'decile_score',\n",
        "    'decile_score.1',\n",
        "    'is_recid',\n",
        "    'is_violent_recid'\n",
        "]\n",
        "\n",
        "filtered_data = filtered_data[selected_cols]\n",
        "\n",
        "## Reveiw the dataset\n",
        "print(filtered_data.head())\n",
        "\n",
        "## Check counts per race again\n",
        "print(\"\\n Race Counts:\")\n",
        "print(filtered_data['race'].value_counts())\n"
      ],
      "metadata": {
        "id": "8pcPjCqfLtze",
        "colab": {
          "base_uri": "https://localhost:8080/"
        },
        "outputId": "6c68d483-cf96-4438-9467-e875403eae57"
      },
      "execution_count": 5,
      "outputs": [
        {
          "output_type": "stream",
          "name": "stdout",
          "text": [
            "               race   sex  age  priors_count  decile_score  decile_score.1  \\\n",
            "1         Caucasian  Male   31             0             5               5   \n",
            "2  African-American  Male   34             0             3               3   \n",
            "3  African-American  Male   24             4             4               4   \n",
            "4  African-American  Male   23             1             8               8   \n",
            "7         Caucasian  Male   41            14             6               6   \n",
            "\n",
            "   is_recid  is_violent_recid  \n",
            "1        -1                 0  \n",
            "2         1                 1  \n",
            "3         1                 0  \n",
            "4         0                 0  \n",
            "7         1                 0  \n",
            "\n",
            " Race Counts:\n",
            "race\n",
            "African-American    5813\n",
            "Caucasian           4085\n",
            "Name: count, dtype: int64\n"
          ]
        }
      ]
    },
    {
      "cell_type": "code",
      "source": [
        "## is_recid has 3 values (1,0,-1) - Filter out -1\n",
        "filtered_data = filtered_data[filtered_data['is_recid'] >=0]\n",
        "\n",
        "## Confirm Value counts\n",
        "print(\"\\n Recidivism Status Counts:\")\n",
        "print(filtered_data['is_recid'].value_counts())"
      ],
      "metadata": {
        "colab": {
          "base_uri": "https://localhost:8080/"
        },
        "id": "v4kGtYPql8W_",
        "outputId": "583b9cde-c555-4914-eb80-4a4c375f5efe"
      },
      "execution_count": 6,
      "outputs": [
        {
          "output_type": "stream",
          "name": "stdout",
          "text": [
            "\n",
            " Recidivism Status Counts:\n",
            "is_recid\n",
            "0    6055\n",
            "1    3264\n",
            "Name: count, dtype: int64\n"
          ]
        }
      ]
    },
    {
      "cell_type": "markdown",
      "source": [
        "### Reflection - What columns we picked\n",
        "1. race → Sensitive attribute we’re auditing for\n",
        "\n",
        "2. is_recid → The outcome/label we want to check bias against\n",
        "\n",
        "3. is_violent_recid -> Optional for violent crimes\n",
        "\n",
        "4. decile_score → The risk score COMPAS assigned (used in fairness metrics)\n",
        "\n",
        "6. priors_count, age, sex → Optional features we might want to use in bias analysis\n",
        "\n",
        "\n",
        "| is\\_recid            | Count |\n",
        "| -------------------- | ----- |\n",
        "| 0 (Did NOT reoffend) | 6055  |\n",
        "| 1 (Reoffended)       | 3264  |\n"
      ],
      "metadata": {
        "id": "joseZBtJrE-q"
      }
    },
    {
      "cell_type": "code",
      "source": [
        "!pip install aif360\n",
        "from aif360.datasets import BinaryLabelDataset\n",
        "\n",
        "# Map race values to numerical values\n",
        "race_map = {\n",
        "    'African-American' : 0,\n",
        "    'Caucasian' : 1\n",
        "}\n",
        "# Create a new column in filtered data\n",
        "filtered_data['race_num'] = filtered_data['race'].map(race_map)\n",
        "\n",
        "\n",
        "# Keep only numeric features (no race, no sex, no is_recid)\n",
        "features = filtered_data[['age', 'priors_count', 'decile_score']]\n",
        "\n",
        "# Create DataFrame with features + label + protected attribute (but DO NOT JOIN them)\n",
        "data_for_aif360 = features.copy()\n",
        "data_for_aif360['is_recid'] = filtered_data['is_recid']\n",
        "data_for_aif360['race_num'] = filtered_data['race_num']\n",
        "\n",
        "# Convert numeric columns to float64\n",
        "data_for_aif360[['age', 'priors_count', 'decile_score', 'is_recid']] = \\\n",
        "    data_for_aif360[['age', 'priors_count', 'decile_score', 'is_recid']].astype(float)\n",
        "\n",
        "# Define groups\n",
        "privileged_groups = [{'race_num': 1}]\n",
        "unprivileged_groups = [{'race_num': 0}]\n",
        "\n",
        "# Convert to BinaryLabelDataset\n",
        "compas_dataset = BinaryLabelDataset(\n",
        "    df=data_for_aif360,\n",
        "    label_names=['is_recid'],\n",
        "    protected_attribute_names=['race_num'],\n",
        "    favorable_label=0,\n",
        "    unfavorable_label=1\n",
        ")\n",
        "\n",
        "# Dataset\n",
        "print(compas_dataset)\n"
      ],
      "metadata": {
        "colab": {
          "base_uri": "https://localhost:8080/"
        },
        "id": "XX24zXaguV19",
        "outputId": "663500a4-ceb2-446e-f4b0-81b95abe84d9"
      },
      "execution_count": 8,
      "outputs": [
        {
          "output_type": "stream",
          "name": "stdout",
          "text": [
            "Collecting aif360\n",
            "  Downloading aif360-0.6.1-py3-none-any.whl.metadata (5.0 kB)\n",
            "Requirement already satisfied: numpy>=1.16 in /usr/local/lib/python3.11/dist-packages (from aif360) (2.0.2)\n",
            "Requirement already satisfied: scipy>=1.2.0 in /usr/local/lib/python3.11/dist-packages (from aif360) (1.15.3)\n",
            "Requirement already satisfied: pandas>=0.24.0 in /usr/local/lib/python3.11/dist-packages (from aif360) (2.2.2)\n",
            "Requirement already satisfied: scikit-learn>=1.0 in /usr/local/lib/python3.11/dist-packages (from aif360) (1.6.1)\n",
            "Requirement already satisfied: matplotlib in /usr/local/lib/python3.11/dist-packages (from aif360) (3.10.0)\n",
            "Requirement already satisfied: python-dateutil>=2.8.2 in /usr/local/lib/python3.11/dist-packages (from pandas>=0.24.0->aif360) (2.9.0.post0)\n",
            "Requirement already satisfied: pytz>=2020.1 in /usr/local/lib/python3.11/dist-packages (from pandas>=0.24.0->aif360) (2025.2)\n",
            "Requirement already satisfied: tzdata>=2022.7 in /usr/local/lib/python3.11/dist-packages (from pandas>=0.24.0->aif360) (2025.2)\n",
            "Requirement already satisfied: joblib>=1.2.0 in /usr/local/lib/python3.11/dist-packages (from scikit-learn>=1.0->aif360) (1.5.1)\n",
            "Requirement already satisfied: threadpoolctl>=3.1.0 in /usr/local/lib/python3.11/dist-packages (from scikit-learn>=1.0->aif360) (3.6.0)\n",
            "Requirement already satisfied: contourpy>=1.0.1 in /usr/local/lib/python3.11/dist-packages (from matplotlib->aif360) (1.3.2)\n",
            "Requirement already satisfied: cycler>=0.10 in /usr/local/lib/python3.11/dist-packages (from matplotlib->aif360) (0.12.1)\n",
            "Requirement already satisfied: fonttools>=4.22.0 in /usr/local/lib/python3.11/dist-packages (from matplotlib->aif360) (4.59.0)\n",
            "Requirement already satisfied: kiwisolver>=1.3.1 in /usr/local/lib/python3.11/dist-packages (from matplotlib->aif360) (1.4.8)\n",
            "Requirement already satisfied: packaging>=20.0 in /usr/local/lib/python3.11/dist-packages (from matplotlib->aif360) (25.0)\n",
            "Requirement already satisfied: pillow>=8 in /usr/local/lib/python3.11/dist-packages (from matplotlib->aif360) (11.2.1)\n",
            "Requirement already satisfied: pyparsing>=2.3.1 in /usr/local/lib/python3.11/dist-packages (from matplotlib->aif360) (3.2.3)\n",
            "Requirement already satisfied: six>=1.5 in /usr/local/lib/python3.11/dist-packages (from python-dateutil>=2.8.2->pandas>=0.24.0->aif360) (1.17.0)\n",
            "Downloading aif360-0.6.1-py3-none-any.whl (259 kB)\n",
            "\u001b[2K   \u001b[90m━━━━━━━━━━━━━━━━━━━━━━━━━━━━━━━━━━━━━━━━\u001b[0m \u001b[32m259.7/259.7 kB\u001b[0m \u001b[31m5.5 MB/s\u001b[0m eta \u001b[36m0:00:00\u001b[0m\n",
            "\u001b[?25hInstalling collected packages: aif360\n",
            "Successfully installed aif360-0.6.1\n",
            "               instance weights features                            \\\n",
            "                                                                     \n",
            "                                     age priors_count decile_score   \n",
            "instance names                                                       \n",
            "2                           1.0     34.0          0.0          3.0   \n",
            "3                           1.0     24.0          4.0          4.0   \n",
            "4                           1.0     23.0          1.0          8.0   \n",
            "7                           1.0     41.0         14.0          6.0   \n",
            "9                           1.0     39.0          0.0          1.0   \n",
            "...                         ...      ...          ...          ...   \n",
            "11748                       1.0     23.0          0.0          7.0   \n",
            "11749                       1.0     56.0          0.0          1.0   \n",
            "11751                       1.0     63.0          5.0          1.0   \n",
            "11753                       1.0     22.0          3.0          7.0   \n",
            "11755                       1.0     29.0          2.0          3.0   \n",
            "\n",
            "                                   labels  \n",
            "               protected attribute         \n",
            "                          race_num         \n",
            "instance names                             \n",
            "2                              0.0    1.0  \n",
            "3                              0.0    1.0  \n",
            "4                              0.0    0.0  \n",
            "7                              1.0    1.0  \n",
            "9                              1.0    0.0  \n",
            "...                            ...    ...  \n",
            "11748                          1.0    0.0  \n",
            "11749                          0.0    0.0  \n",
            "11751                          0.0    1.0  \n",
            "11753                          1.0    1.0  \n",
            "11755                          1.0    0.0  \n",
            "\n",
            "[9319 rows x 6 columns]\n"
          ]
        }
      ]
    },
    {
      "cell_type": "code",
      "source": [
        "## Split Dataset into Privileged & Unprivileged Subsets\n",
        "\n",
        "# Boolean masks for privileged and unprivileged\n",
        "privileged_mask = (compas_dataset.protected_attributes == 1).ravel()\n",
        "unprivileged_mask = (compas_dataset.protected_attributes == 0).ravel()\n",
        "\n",
        "# Subset the datasets\n",
        "privileged_dataset = compas_dataset.subset(privileged_mask)\n",
        "unprivileged_dataset = compas_dataset.subset(unprivileged_mask)\n"
      ],
      "metadata": {
        "id": "TzombqL3vqCs"
      },
      "execution_count": 14,
      "outputs": []
    },
    {
      "cell_type": "code",
      "source": [
        "from aif360.metrics import ClassificationMetric\n",
        "\n",
        "# Use compas_dataset as both y_true and y_pred (we audit existing labels)\n",
        "metric = ClassificationMetric(\n",
        "    compas_dataset,   # Ground truth labels\n",
        "    compas_dataset,   # \"Predicted\" labels (same for now)\n",
        "    unprivileged_groups=[{'race_num': 0}],\n",
        "    privileged_groups=[{'race_num': 1}]\n",
        ")\n",
        "\n",
        "print(\"Statistical Parity Difference (SPD):\", metric.statistical_parity_difference())\n",
        "print(\"Disparate Impact (DI):\", metric.disparate_impact())\n",
        "print(\"Equal Opportunity Difference (EOD):\", metric.equal_opportunity_difference())\n",
        "print(\"Average Odds Difference (AOD):\", metric.average_odds_difference())"
      ],
      "metadata": {
        "id": "saNJzHpAzy8f",
        "colab": {
          "base_uri": "https://localhost:8080/"
        },
        "outputId": "46c578d3-8923-4d68-ea4b-4a17f6df82e2"
      },
      "execution_count": 16,
      "outputs": [
        {
          "output_type": "stream",
          "name": "stdout",
          "text": [
            "Statistical Parity Difference (SPD): -0.11015478970488624\n",
            "Disparate Impact (DI): 0.8458882421790929\n",
            "Equal Opportunity Difference (EOD): 0.0\n",
            "Average Odds Difference (AOD): 0.0\n"
          ]
        }
      ]
    },
    {
      "cell_type": "markdown",
      "source": [
        "## Summary - Findings\n",
        "\n",
        "###1. Statistical Parity Difference (SPD): -0.11\n",
        "**Interpretation:**\n",
        "\n",
        "  - The unprivileged group (African-Americans) receives the favorable outcome 11% less often than the privileged group.\n",
        "\n",
        "  **Is this acceptable?**\n",
        "\n",
        "    - Fairness Threshold (±0.1): You’re slightly outside the “fair” zone, meaning mild bias.\n",
        "\n",
        "    - 🔹 Insight: The tool tends to predict unfavorable outcomes slightly more often for African-Americans.\n",
        "\n",
        "###2. Disparate Impact (DI): 0.85\n",
        "**Interpretation:**\n",
        "\n",
        "  - The unprivileged group receives 85% of the favorable outcomes compared to the privileged group.\n",
        "\n",
        "  - **Is this acceptable?**\n",
        "\n",
        "    - 80% Rule of Thumb:\n",
        "    \n",
        "      ✔️ Anything between 0.8 and 1.25 is generally considered acceptable.\n",
        "\n",
        "    - ✅ This is OK (but borderline).\n",
        "\n",
        "    - 🔹 Insight: No major disparate impact, but it’s close.\n",
        "\n",
        "###3. Equal Opportunity Difference (EOD): 0.0\n",
        "**Interpretation:**\n",
        "  - Both groups have the same true positive rate — that’s excellent fairness regarding equal opportunity.\n",
        "\n",
        "  - **Is this acceptable?**\n",
        "\n",
        "  ✅ Yes — This is perfect.\n",
        "\n",
        "###4. Average Odds Difference (AOD): 0.0\n",
        "**Interpretation:**\n",
        "  - On average, false positives and true positives differ by 0% between groups.\n",
        "\n",
        "  - ✅ Perfectly fair by this measure.\n",
        "\n",
        "\n",
        "\n",
        "### Final Audit Verdict:\n",
        "\n",
        "| Metric | Result | Verdict    |\n",
        "| ------ | ------ | ---------- |\n",
        "| SPD    | -0.11  | Mild Bias  |\n",
        "| DI     | 0.85   | Acceptable |\n",
        "| EOD    | 0.0    | Fair       |\n",
        "| AOD    | 0.0    | Fair       |\n"
      ],
      "metadata": {
        "id": "tc8ZMH0vCRFJ"
      }
    },
    {
      "cell_type": "code",
      "source": [
        "## Bar Plot of Favorable Outcome Rates\n",
        "\n",
        "# Get favorable outcome rates\n",
        "privileged_outcome_rate = (compas_dataset.labels[(compas_dataset.protected_attributes == 1).ravel()] == 0).mean()\n",
        "unprivileged_outcome_rate = (compas_dataset.labels[(compas_dataset.protected_attributes == 0).ravel()] == 0).mean()\n",
        "\n",
        "# Plotting\n",
        "groups = ['Privileged (Caucasian)', 'Unprivileged (African-American)']\n",
        "rates = [privileged_outcome_rate, unprivileged_outcome_rate]\n",
        "\n",
        "plt.bar(groups, rates, color=['green', 'red'])\n",
        "plt.title('Favorable Outcome Rates by Group')\n",
        "plt.ylabel('Proportion with Favorable Outcome')\n",
        "plt.ylim(0, 1)\n",
        "plt.axhline(y=0.5, color='gray', linestyle='--', label='50% Reference')\n",
        "plt.legend()\n",
        "plt.show()"
      ],
      "metadata": {
        "colab": {
          "base_uri": "https://localhost:8080/",
          "height": 452
        },
        "id": "KZfDmcT9_ikN",
        "outputId": "bd4a7da6-4ea3-43ef-8e14-d6ab58da4a3e"
      },
      "execution_count": 17,
      "outputs": [
        {
          "output_type": "display_data",
          "data": {
            "text/plain": [
              "<Figure size 640x480 with 1 Axes>"
            ],
            "image/png": "[encoded data removed]"
          },
          "metadata": {}
        }
      ]
    },
    {
      "cell_type": "code",
      "source": [
        "## Visualize SPD as Difference\n",
        "\n",
        "# Plotting the difference (SPD)\n",
        "plt.bar(['Statistical Parity Difference'], [metric.statistical_parity_difference()], color='purple')\n",
        "plt.title('Statistical Parity Difference (Ideal = 0)')\n",
        "plt.axhline(y=0, color='black', linestyle='--')\n",
        "plt.ylabel('SPD Value')\n",
        "plt.ylim(-0.5, 0.5)\n",
        "plt.show()\n"
      ],
      "metadata": {
        "colab": {
          "base_uri": "https://localhost:8080/",
          "height": 452
        },
        "id": "pySnwzgRAoa7",
        "outputId": "df2ba080-e783-4a9f-bb50-b36f8e3e6a4b"
      },
      "execution_count": 18,
      "outputs": [
        {
          "output_type": "display_data",
          "data": {
            "text/plain": [
              "<Figure size 640x480 with 1 Axes>"
            ],
            "image/png": "[encoded data removed]"
          },
          "metadata": {}
        }
      ]
    },
    {
      "cell_type": "code",
      "source": [],
      "metadata": {
        "id": "xjy5tNjfAz6L"
      },
      "execution_count": null,
      "outputs": []
    },
    {
      "cell_type": "markdown",
      "source": [
        "## Summary Explanation\n",
        "###1️⃣ Favorable Outcomes Bar Chart:\n",
        "\n",
        "| Group                           | Proportion with Favorable Outcome |\n",
        "| ------------------------------- | --------------------------------- |\n",
        "| Privileged (Caucasian)          | **0.7**                           |\n",
        "| Unprivileged (African-American) | **0.6**                           |\n",
        "\n",
        "\n",
        "####🔹 What this shows:\n",
        "  - Caucasian individuals have a higher chance (70%) of getting a favorable outcome compared to African-Americans (60%).\n",
        "\n",
        "####🟢 Is this acceptable?\n",
        "\n",
        "  - The difference is ~10%, which matches exactly with your SPD of -0.11.\n",
        "\n",
        "  - It’s not alarmingly unfair, but it confirms mild bias.\n",
        "\n",
        "###⚖️ Conclusion:\n",
        "The system slightly favors Caucasians in outcome distribution."
      ],
      "metadata": {
        "id": "cdS65RORBoCu"
      }
    },
    {
      "cell_type": "markdown",
      "source": [],
      "metadata": {
        "id": "jbIeqzUbBoAl"
      }
    }
  ]
}